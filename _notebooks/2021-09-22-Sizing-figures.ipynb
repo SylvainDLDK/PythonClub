{
 "cells": [
  {
   "cell_type": "markdown",
   "id": "a322eb03-47eb-4ea2-9fc2-d7acd806afd6",
   "metadata": {},
   "source": [
    "# Sizing figures for publications (in progress)\n",
    "> \"How large is a point in typography? Why inch? How do I size my figure and its elements for publication?\"\n",
    "\n",
    "- toc: true\n",
    "- badges: true\n",
    "- comments: true\n",
    "- author: Sylvain de Léséleuc\n",
    "- categories: [matplotlib, typography, figure]"
   ]
  },
  {
   "cell_type": "markdown",
   "id": "a7cdab1c-5f32-43d8-a494-30be8f9ca0ef",
   "metadata": {},
   "source": [
    "# Motivation"
   ]
  },
  {
   "cell_type": "markdown",
   "id": "cba83714-9e51-4d30-9694-c106a0a5c189",
   "metadata": {},
   "source": [
    "Making figures is a crucial know-how for displaying scientific results. Of all figures that I make:\n",
    "- 90 % are for \"my eyes only\", and I use them to explore and understand data. These figures are often impossible to decypher for anyone else because so many curves are overlapped. And this is fine, these figures are just for me.\n",
    "- 10 % will be shared \"informally\" with close colleages to discuss results with them in the lab. There I pay attention to clean the figures and keep only the curves that I want to discuss. I start to write correct labels for the axis and put legends. \n",
    "- 1 % will be shared \"formally\" during team meetings. Attention to small details are necessary: axis labels are not an option, not too ugly colors and crazy sizes. \n",
    "- 0.01 % will reach the scientific community through poster session, oral presentation, papers and a thesis. These figures are the jewels of ones own work! Here I will check the smallest details such as that the fontsize of labels matches the fontsize of the main text, that the font follows the journal requirement, that the figure resolution is high enough for printing or zooming in... \n",
    "\n",
    "\n",
    "Today Python's club is about the 0.01 % which require a good understanding of physical size of the figure and its elements (line, point, numbers, labels). \n",
    "\n",
    "\n",
    "The goal is to be able to choose the correct fontsize in powerpoint, or linewidth in matplotlib to produce publication-ready figures. "
   ]
  },
  {
   "cell_type": "markdown",
   "id": "766497cc-d4be-4947-b97b-189d0da96a78",
   "metadata": {},
   "source": [
    "# Figure size: know your physical support"
   ]
  },
  {
   "cell_type": "markdown",
   "id": "6a1d1724-0fb3-44d1-8f68-846cd40370fc",
   "metadata": {},
   "source": [
    "The overall size of a figure can change by as much as four-fold depending on the support of your scientific publication:\n",
    "- a two-column A4 paper: for example, Physical Review Letters of the APS (American Physical Society) will rescale your figure to a width of 8.6 cm to match the column width ([see guidelines](https://journals.aps.org/prl/authors#tables-and-figures)).\n",
    "- a single-column PhD thesis\n",
    "- a slide for an oral presentation \n",
    "- an A0 poster\n",
    "\n",
    "So the first question to investigate is: what is the width (and height) allocated to the figure? \n",
    "I then recommend to keep this size across the various software used to make a figure (powerpoint, Adobe Illustrator, matplotlib, ...) to avoid issues associated to resizing (see later). "
   ]
  },
  {
   "cell_type": "markdown",
   "id": "d6db99cb-3d87-4242-8f8c-8af25aeedbe9",
   "metadata": {},
   "source": [
    "# Figure elements"
   ]
  },
  {
   "cell_type": "markdown",
   "id": "3d5a2fa9-e495-4865-9f6e-77ac8685a8b3",
   "metadata": {},
   "source": [
    "Once the figure size is fixed, we can turn our attention to the size of its various elements: \n",
    "- the fontsize of characters and numerals: labels, axis values, legend, title...\n",
    "- the width of line and marker for the data\n",
    "- the width of the axis, grid, legend box, error bars, ... \n",
    "\n",
    "\n",
    "The APS provides the following [guidelines](https://journals.aps.org/prl/authors#tables-and-figures) inviting us to prepare figures with:\n",
    "- the smallest numerical/capital character larger than 2 mm\n",
    "- the diameter of data points larger than 1 mm\n",
    "- the thickness of lines larger than 0.2 mm\n",
    "\n",
    "\n",
    "We can be deeply grateful to the APS for promoting the use of the international metric system 😊👌. \n",
    "However, this noble gesture is quickly confronted to the issue that most softwares (including matplotlib!) speak the ugly language of inch and typography point!\n",
    "\n",
    "\n",
    "This brings us to the topic of units. "
   ]
  },
  {
   "cell_type": "markdown",
   "id": "0ee2069d-1ff2-4cef-bd6e-f41a1ad1d0a0",
   "metadata": {},
   "source": [
    "# Units conversion"
   ]
  },
  {
   "cell_type": "markdown",
   "id": "e29808a0-3c1d-4788-9b9f-bfd63a0d3b5d",
   "metadata": {},
   "source": [
    "- 1 inch = 25.4 mm \n",
    "- 1 point = 1/72 inch $\\sim$ 0.35 mm. The point is typically used for fontsize, as in Arial 12pt (pt = point).  \n",
    "\n",
    "See the wikipedia article on [typographic point](https://en.wikipedia.org/wiki/Point_(typography)) for more information about the history of the point in typography. \n",
    "\n"
   ]
  },
  {
   "cell_type": "markdown",
   "id": "9c021835-a8ed-4b96-8c9d-16d46d9a7149",
   "metadata": {},
   "source": [
    "# Example (Chew-kun, please?)"
   ]
  },
  {
   "cell_type": "code",
   "execution_count": 1,
   "id": "5301e9a1-5397-4f42-9e4b-934f92ceb2f4",
   "metadata": {},
   "outputs": [
    {
     "data": {
      "image/png": "[encoded data removed]",
      "text/plain": [
       "<Figure size 243.78x182.835 with 1 Axes>"
      ]
     },
     "metadata": {
      "needs_background": "light"
     },
     "output_type": "display_data"
    }
   ],
   "source": [
    "import matplotlib.pyplot as plt\n",
    "\n",
    "ratio = 4.8/6.4\n",
    "mm = 1./25.4\n",
    "\n",
    "plt.figure(figsize = (86*mm, 86*mm*ratio))\n",
    "plt.plot([0,0],[0,1],'o-',markersize = 3, linewidth = 0.5)\n",
    "\n",
    "plt.xlabel('My x label', fontsize = 10)\n",
    "plt.savefig('myfigure_for_paper.png')\n",
    "plt.show()"
   ]
  }
 ],
 "metadata": {
  "kernelspec": {
   "display_name": "Python 3",
   "language": "python",
   "name": "python3"
  },
  "language_info": {
   "codemirror_mode": {
    "name": "ipython",
    "version": 3
   },
   "file_extension": ".py",
   "mimetype": "text/x-python",
   "name": "python",
   "nbconvert_exporter": "python",
   "pygments_lexer": "ipython3",
   "version": "3.8.8"
  }
 },
 "nbformat": 4,
 "nbformat_minor": 5
}
