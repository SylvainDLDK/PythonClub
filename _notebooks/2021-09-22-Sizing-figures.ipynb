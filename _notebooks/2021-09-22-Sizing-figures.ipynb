{
 "cells": [
  {
   "cell_type": "markdown",
   "id": "a322eb03-47eb-4ea2-9fc2-d7acd806afd6",
   "metadata": {},
   "source": [
    "# Sizing figures\n",
    "> \"How large is a point in typography? Why inch? How do I size my figure and its elements for publication?\"\n",
    "\n",
    "- toc: true\n",
    "- badges: true\n",
    "- comments: true\n",
    "- author: Sylvain de Léséleuc\n",
    "- categories: [matplotlib, typography, figure]"
   ]
  },
  {
   "cell_type": "markdown",
   "id": "609e33e0-6faa-4233-8a25-0dada9f298e3",
   "metadata": {},
   "source": [
    "[The APS guideline](https://journals.aps.org/prl/authors#tables-and-figures) invites us to prepare figures with: \n",
    "- the smallest numerical/capital characeter larger than 2 mm\n",
    "- the "
   ]
  },
  {
   "cell_type": "code",
   "execution_count": null,
   "id": "077d0856-8396-4eca-be22-36ddb82533f0",
   "metadata": {},
   "outputs": [],
   "source": []
  }
 ],
 "metadata": {
  "kernelspec": {
   "display_name": "Python 3",
   "language": "python",
   "name": "python3"
  },
  "language_info": {
   "codemirror_mode": {
    "name": "ipython",
    "version": 3
   },
   "file_extension": ".py",
   "mimetype": "text/x-python",
   "name": "python",
   "nbconvert_exporter": "python",
   "pygments_lexer": "ipython3",
   "version": "3.8.8"
  }
 },
 "nbformat": 4,
 "nbformat_minor": 5
}
