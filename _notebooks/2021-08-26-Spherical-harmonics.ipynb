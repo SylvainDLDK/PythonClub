{
 "cells": [
  {
   "cell_type": "markdown",
   "metadata": {},
   "source": [
    "# Spherical Harmonics\n",
    "> We use the spherical harmonics from scipy.special and checked how to calculate integrals as a discrete sum (in multi-dimension and in non-cartesian coordinates). \n",
    "\n",
    "- toc:true- branch: master\n",
    "- badges: true\n",
    "- comments: true\n",
    "- author: Hamel Husain & Jeremy Howard\n",
    "- categories: [scipy]"
   ]
  },
  {
   "cell_type": "code",
   "execution_count": 1,
   "metadata": {},
   "outputs": [
    {
     "name": "stdout",
     "output_type": "stream",
     "text": [
      "Using matplotlib backend: Qt5Agg\n",
      "Populating the interactive namespace from numpy and matplotlib\n"
     ]
    }
   ],
   "source": [
    "%pylab\n",
    "from scipy.special import sph_harm"
   ]
  },
  {
   "cell_type": "code",
   "execution_count": 2,
   "metadata": {},
   "outputs": [],
   "source": [
    "phi = np.linspace(0,np.pi,100)\n",
    "dphi = phi[1]-phi[0]\n",
    "theta = np.linspace(0,2*np.pi,100)\n",
    "dtheta = theta[1]-theta[0]\n",
    "\n",
    "PHI, THETA = np.meshgrid(phi,theta)\n",
    "\n",
    "Y_11 = sph_harm(1,1,THETA,PHI)\n",
    "Y_10 = sph_harm(0,1,THETA,PHI)\n",
    "Y_1p1 = sph_harm(-1,1,THETA,PHI)\n",
    "\n",
    "\n",
    "Y_22 = sph_harm(2,2,THETA,PHI) \n",
    "Y_21 = sph_harm(1,2,THETA,PHI) \n",
    "Y_20 = sph_harm(0,2,THETA,PHI) \n"
   ]
  },
  {
   "cell_type": "code",
   "execution_count": 3,
   "metadata": {},
   "outputs": [
    {
     "data": {
      "text/plain": [
       "(0.3121407693092947+1.4301202117769685e-18j)"
      ]
     },
     "execution_count": 3,
     "metadata": {},
     "output_type": "execute_result"
    }
   ],
   "source": [
    "np.sum(Y_11*Y_11*np.conj(Y_22)*np.sin(PHI)*dtheta*dphi)"
   ]
  },
  {
   "cell_type": "code",
   "execution_count": 4,
   "metadata": {},
   "outputs": [
    {
     "data": {
      "text/plain": [
       "(-1.0842021724855044e-18+1.0842021724855044e-18j)"
      ]
     },
     "execution_count": 4,
     "metadata": {},
     "output_type": "execute_result"
    }
   ],
   "source": [
    "np.sum(Y_11*np.conj(Y_10)*np.sin(PHI)*dtheta*dphi)"
   ]
  },
  {
   "cell_type": "code",
   "execution_count": null,
   "metadata": {},
   "outputs": [],
   "source": [
    "ds = dx dy\n",
    "ds = dr rdθ\n",
    "\n",
    "\n",
    "dV = dx dy dz\n",
    "dV = r^2 sin θ dr dθ dϕ\n",
    "\n",
    "dΩ = sin θ dθ dϕ"
   ]
  }
 ],
 "metadata": {
  "kernelspec": {
   "display_name": "Python 3",
   "language": "python",
   "name": "python3"
  },
  "language_info": {
   "codemirror_mode": {
    "name": "ipython",
    "version": 3
   },
   "file_extension": ".py",
   "mimetype": "text/x-python",
   "name": "python",
   "nbconvert_exporter": "python",
   "pygments_lexer": "ipython3",
   "version": "3.7.9"
  }
 },
 "nbformat": 4,
 "nbformat_minor": 4
}
